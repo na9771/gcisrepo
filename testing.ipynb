{
 "cells": [
  {
   "cell_type": "code",
   "execution_count": 1,
   "id": "39d88114",
   "metadata": {},
   "outputs": [
    {
     "name": "stdout",
     "output_type": "stream",
     "text": [
      "hello\n"
     ]
    }
   ],
   "source": [
    "print(\"hello\")"
   ]
  },
  {
   "cell_type": "code",
   "execution_count": null,
   "id": "31ae79e2",
   "metadata": {},
   "outputs": [],
   "source": [
    "# Python is a popular programming language known for its simplicity and readability.\n",
    "# Let's start with some basics:\n",
    "\n",
    "# 1. Variables: Used to store data\n",
    "x = 5\n",
    "y = \"Hello, World!\"\n",
    "\n",
    "# 2. Printing values\n",
    "print(x)\n",
    "print(y)\n",
    "\n",
    "# 3. Basic data types: int, float, str, bool\n",
    "number = 10        # int\n",
    "pi = 3.14          # float\n",
    "name = \"Alice\"     # str\n",
    "is_valid = True    # bool\n",
    "\n",
    "# 4. Lists: Ordered collection of items\n",
    "fruits = [\"apple\", \"banana\", \"cherry\"]\n",
    "print(fruits[0])   # prints 'apple'\n",
    "\n",
    "# 5. Loops: Repeat actions\n",
    "for fruit in fruits:\n",
    "\tprint(fruit)\n",
    "\n",
    "# 6. Functions: Reusable blocks of code\n",
    "def greet(person):\n",
    "\tprint(\"Hello,\", person)\n",
    "\n",
    "greet(\"Bob\")"
   ]
  },
  {
   "cell_type": "code",
   "execution_count": 2,
   "id": "e8266698",
   "metadata": {},
   "outputs": [
    {
     "name": "stdout",
     "output_type": "stream",
     "text": [
      "10\n"
     ]
    }
   ],
   "source": [
    "a = 10\n",
    "print(a)"
   ]
  },
  {
   "cell_type": "code",
   "execution_count": 3,
   "id": "4f32c1f5",
   "metadata": {},
   "outputs": [
    {
     "name": "stdout",
     "output_type": "stream",
     "text": [
      "Hello noor\n"
     ]
    }
   ],
   "source": [
    "def hello():\n",
    "    name = input(\"Enter name\")\n",
    "    print(\"Hello\",name)\n",
    "hello() "
   ]
  },
  {
   "cell_type": "code",
   "execution_count": null,
   "id": "a85d9a9e",
   "metadata": {},
   "outputs": [],
   "source": []
  }
 ],
 "metadata": {
  "kernelspec": {
   "display_name": "Python 3",
   "language": "python",
   "name": "python3"
  },
  "language_info": {
   "codemirror_mode": {
    "name": "ipython",
    "version": 3
   },
   "file_extension": ".py",
   "mimetype": "text/x-python",
   "name": "python",
   "nbconvert_exporter": "python",
   "pygments_lexer": "ipython3",
   "version": "3.13.7"
  }
 },
 "nbformat": 4,
 "nbformat_minor": 5
}
